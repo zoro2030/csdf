{
 "cells": [
  {
   "cell_type": "code",
   "execution_count": 1,
   "id": "8c41e97e",
   "metadata": {},
   "outputs": [
    {
     "name": "stdout",
     "output_type": "stream",
     "text": [
      "MIME-Version: 1.0\n",
      "Date: Wed, 19 Jun 2013 17:09:33 +0000 (UTC)\n",
      "Subject: A Test From Zoro\n",
      "Message-ID: <1371661773.974270694268263@mf9.sendgrid.net>\n",
      "From: zoro@2030\n",
      "To: luffy@2030\n"
     ]
    }
   ],
   "source": [
    "import re\n",
    "def matchre(data,*args):\n",
    "    for regstr in args:\n",
    "        matchObj = re.search( regstr+'.*', data, re.M|re.I)\n",
    "        if matchObj:\n",
    "            print (matchObj.group(0).lstrip().rstrip())\n",
    "        else:\n",
    "            print (\"No \",regstr,\"found\")\n",
    "        \n",
    "fo = open(\"01.txt\") #fo=filehandle\n",
    "data=fo.read()\n",
    "matchre(data,\"MIME-version\",\"Date:\",\"Subject:\",\"Message-ID:\",\"From:\",\"To:\")\n",
    "fo.close()"
   ]
  },
  {
   "cell_type": "code",
   "execution_count": null,
   "id": "2bbe0c43",
   "metadata": {},
   "outputs": [],
   "source": []
  }
 ],
 "metadata": {
  "kernelspec": {
   "display_name": "Python 3 (ipykernel)",
   "language": "python",
   "name": "python3"
  },
  "language_info": {
   "codemirror_mode": {
    "name": "ipython",
    "version": 3
   },
   "file_extension": ".py",
   "mimetype": "text/x-python",
   "name": "python",
   "nbconvert_exporter": "python",
   "pygments_lexer": "ipython3",
   "version": "3.9.12"
  }
 },
 "nbformat": 4,
 "nbformat_minor": 5
}
